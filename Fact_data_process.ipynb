{
  "nbformat": 4,
  "nbformat_minor": 0,
  "metadata": {
    "colab": {
      "provenance": [],
      "authorship_tag": "ABX9TyNsb55Ll8+qkgaubrsN+Ioo",
      "include_colab_link": true
    },
    "kernelspec": {
      "name": "python3",
      "display_name": "Python 3"
    },
    "language_info": {
      "name": "python"
    }
  },
  "cells": [
    {
      "cell_type": "markdown",
      "metadata": {
        "id": "view-in-github",
        "colab_type": "text"
      },
      "source": [
        "<a href=\"https://colab.research.google.com/github/kotatakehara/Self-efficacy/blob/draft/Fact_data_process.ipynb\" target=\"_parent\"><img src=\"https://colab.research.google.com/assets/colab-badge.svg\" alt=\"Open In Colab\"/></a>"
      ]
    },
    {
      "cell_type": "markdown",
      "source": [
        "### すること\n",
        "データから成功したかどうかをカウントをするためのプログラム \\\\\n",
        "ボールが剣よりも高くなり、ベクトルが大きなプラスの値からマイナスの値になりYの値が同じ値になった時に成功しているかの判定を行う。リセットされたらもう一度同じことを行う。 \\\\\n",
        "おそらく3秒に一回のペースで行っており、30分ほどあるので約600回行っている。 \\\\\n",
        "リセットされてから3秒無ければ判定に使用しない。"
      ],
      "metadata": {
        "id": "TZgxaqzs24ra"
      }
    },
    {
      "cell_type": "code",
      "execution_count": 2,
      "metadata": {
        "id": "BqRJdAQ4xnRD"
      },
      "outputs": [],
      "source": [
        "#pandasをインポート\n",
        "import pandas as pd\n",
        "df = pd.read_excel(\"/content/no10_cutting.xlsx\")"
      ]
    },
    {
      "cell_type": "code",
      "source": [
        "df.head()"
      ],
      "metadata": {
        "colab": {
          "base_uri": "https://localhost:8080/",
          "height": 226
        },
        "id": "n-jf7NXV0DIB",
        "outputId": "e9277a1f-d33e-41eb-e9e8-f5da75521c18"
      },
      "execution_count": 3,
      "outputs": [
        {
          "output_type": "execute_result",
          "data": {
            "text/plain": [
              "   ElapsedTime  ball.Position.x  ball.Position.y  ball.Position.z  \\\n",
              "0     0.000000           0.2606           0.7784          -0.4553   \n",
              "1     0.053991           0.2608           0.7771          -0.4564   \n",
              "2     0.066622           0.2609           0.7771          -0.4566   \n",
              "3     0.088489           0.2610           0.7765          -0.4571   \n",
              "4     0.098632           0.2610           0.7762          -0.4573   \n",
              "\n",
              "   sword.Position.x  sword.Position.y  sword.Position.z  ball.Velocity.x  \\\n",
              "0            0.2617            1.3104           -0.4544         0.002752   \n",
              "1            0.2616            1.3094           -0.4550         0.002882   \n",
              "2            0.2613            1.3090           -0.4553         0.003235   \n",
              "3            0.2615            1.3085           -0.4555         0.003476   \n",
              "4            0.2616            1.3083           -0.4557         0.003800   \n",
              "\n",
              "   ball.Velocity.y  ball.Velocity.z  ResetFlag GazeTarget  \n",
              "0        -0.003913        -0.021396        NaN             \n",
              "1        -0.005460        -0.020489        NaN             \n",
              "2        -0.010349        -0.020561        NaN             \n",
              "3        -0.009863        -0.019746        NaN             \n",
              "4        -0.014079        -0.019342        NaN      sword  "
            ],
            "text/html": [
              "\n",
              "  <div id=\"df-4598de72-ccfd-483e-a9d6-f8b302e0119b\" class=\"colab-df-container\">\n",
              "    <div>\n",
              "<style scoped>\n",
              "    .dataframe tbody tr th:only-of-type {\n",
              "        vertical-align: middle;\n",
              "    }\n",
              "\n",
              "    .dataframe tbody tr th {\n",
              "        vertical-align: top;\n",
              "    }\n",
              "\n",
              "    .dataframe thead th {\n",
              "        text-align: right;\n",
              "    }\n",
              "</style>\n",
              "<table border=\"1\" class=\"dataframe\">\n",
              "  <thead>\n",
              "    <tr style=\"text-align: right;\">\n",
              "      <th></th>\n",
              "      <th>ElapsedTime</th>\n",
              "      <th>ball.Position.x</th>\n",
              "      <th>ball.Position.y</th>\n",
              "      <th>ball.Position.z</th>\n",
              "      <th>sword.Position.x</th>\n",
              "      <th>sword.Position.y</th>\n",
              "      <th>sword.Position.z</th>\n",
              "      <th>ball.Velocity.x</th>\n",
              "      <th>ball.Velocity.y</th>\n",
              "      <th>ball.Velocity.z</th>\n",
              "      <th>ResetFlag</th>\n",
              "      <th>GazeTarget</th>\n",
              "    </tr>\n",
              "  </thead>\n",
              "  <tbody>\n",
              "    <tr>\n",
              "      <th>0</th>\n",
              "      <td>0.000000</td>\n",
              "      <td>0.2606</td>\n",
              "      <td>0.7784</td>\n",
              "      <td>-0.4553</td>\n",
              "      <td>0.2617</td>\n",
              "      <td>1.3104</td>\n",
              "      <td>-0.4544</td>\n",
              "      <td>0.002752</td>\n",
              "      <td>-0.003913</td>\n",
              "      <td>-0.021396</td>\n",
              "      <td>NaN</td>\n",
              "      <td></td>\n",
              "    </tr>\n",
              "    <tr>\n",
              "      <th>1</th>\n",
              "      <td>0.053991</td>\n",
              "      <td>0.2608</td>\n",
              "      <td>0.7771</td>\n",
              "      <td>-0.4564</td>\n",
              "      <td>0.2616</td>\n",
              "      <td>1.3094</td>\n",
              "      <td>-0.4550</td>\n",
              "      <td>0.002882</td>\n",
              "      <td>-0.005460</td>\n",
              "      <td>-0.020489</td>\n",
              "      <td>NaN</td>\n",
              "      <td></td>\n",
              "    </tr>\n",
              "    <tr>\n",
              "      <th>2</th>\n",
              "      <td>0.066622</td>\n",
              "      <td>0.2609</td>\n",
              "      <td>0.7771</td>\n",
              "      <td>-0.4566</td>\n",
              "      <td>0.2613</td>\n",
              "      <td>1.3090</td>\n",
              "      <td>-0.4553</td>\n",
              "      <td>0.003235</td>\n",
              "      <td>-0.010349</td>\n",
              "      <td>-0.020561</td>\n",
              "      <td>NaN</td>\n",
              "      <td></td>\n",
              "    </tr>\n",
              "    <tr>\n",
              "      <th>3</th>\n",
              "      <td>0.088489</td>\n",
              "      <td>0.2610</td>\n",
              "      <td>0.7765</td>\n",
              "      <td>-0.4571</td>\n",
              "      <td>0.2615</td>\n",
              "      <td>1.3085</td>\n",
              "      <td>-0.4555</td>\n",
              "      <td>0.003476</td>\n",
              "      <td>-0.009863</td>\n",
              "      <td>-0.019746</td>\n",
              "      <td>NaN</td>\n",
              "      <td></td>\n",
              "    </tr>\n",
              "    <tr>\n",
              "      <th>4</th>\n",
              "      <td>0.098632</td>\n",
              "      <td>0.2610</td>\n",
              "      <td>0.7762</td>\n",
              "      <td>-0.4573</td>\n",
              "      <td>0.2616</td>\n",
              "      <td>1.3083</td>\n",
              "      <td>-0.4557</td>\n",
              "      <td>0.003800</td>\n",
              "      <td>-0.014079</td>\n",
              "      <td>-0.019342</td>\n",
              "      <td>NaN</td>\n",
              "      <td>sword</td>\n",
              "    </tr>\n",
              "  </tbody>\n",
              "</table>\n",
              "</div>\n",
              "    <div class=\"colab-df-buttons\">\n",
              "\n",
              "  <div class=\"colab-df-container\">\n",
              "    <button class=\"colab-df-convert\" onclick=\"convertToInteractive('df-4598de72-ccfd-483e-a9d6-f8b302e0119b')\"\n",
              "            title=\"Convert this dataframe to an interactive table.\"\n",
              "            style=\"display:none;\">\n",
              "\n",
              "  <svg xmlns=\"http://www.w3.org/2000/svg\" height=\"24px\" viewBox=\"0 -960 960 960\">\n",
              "    <path d=\"M120-120v-720h720v720H120Zm60-500h600v-160H180v160Zm220 220h160v-160H400v160Zm0 220h160v-160H400v160ZM180-400h160v-160H180v160Zm440 0h160v-160H620v160ZM180-180h160v-160H180v160Zm440 0h160v-160H620v160Z\"/>\n",
              "  </svg>\n",
              "    </button>\n",
              "\n",
              "  <style>\n",
              "    .colab-df-container {\n",
              "      display:flex;\n",
              "      gap: 12px;\n",
              "    }\n",
              "\n",
              "    .colab-df-convert {\n",
              "      background-color: #E8F0FE;\n",
              "      border: none;\n",
              "      border-radius: 50%;\n",
              "      cursor: pointer;\n",
              "      display: none;\n",
              "      fill: #1967D2;\n",
              "      height: 32px;\n",
              "      padding: 0 0 0 0;\n",
              "      width: 32px;\n",
              "    }\n",
              "\n",
              "    .colab-df-convert:hover {\n",
              "      background-color: #E2EBFA;\n",
              "      box-shadow: 0px 1px 2px rgba(60, 64, 67, 0.3), 0px 1px 3px 1px rgba(60, 64, 67, 0.15);\n",
              "      fill: #174EA6;\n",
              "    }\n",
              "\n",
              "    .colab-df-buttons div {\n",
              "      margin-bottom: 4px;\n",
              "    }\n",
              "\n",
              "    [theme=dark] .colab-df-convert {\n",
              "      background-color: #3B4455;\n",
              "      fill: #D2E3FC;\n",
              "    }\n",
              "\n",
              "    [theme=dark] .colab-df-convert:hover {\n",
              "      background-color: #434B5C;\n",
              "      box-shadow: 0px 1px 3px 1px rgba(0, 0, 0, 0.15);\n",
              "      filter: drop-shadow(0px 1px 2px rgba(0, 0, 0, 0.3));\n",
              "      fill: #FFFFFF;\n",
              "    }\n",
              "  </style>\n",
              "\n",
              "    <script>\n",
              "      const buttonEl =\n",
              "        document.querySelector('#df-4598de72-ccfd-483e-a9d6-f8b302e0119b button.colab-df-convert');\n",
              "      buttonEl.style.display =\n",
              "        google.colab.kernel.accessAllowed ? 'block' : 'none';\n",
              "\n",
              "      async function convertToInteractive(key) {\n",
              "        const element = document.querySelector('#df-4598de72-ccfd-483e-a9d6-f8b302e0119b');\n",
              "        const dataTable =\n",
              "          await google.colab.kernel.invokeFunction('convertToInteractive',\n",
              "                                                    [key], {});\n",
              "        if (!dataTable) return;\n",
              "\n",
              "        const docLinkHtml = 'Like what you see? Visit the ' +\n",
              "          '<a target=\"_blank\" href=https://colab.research.google.com/notebooks/data_table.ipynb>data table notebook</a>'\n",
              "          + ' to learn more about interactive tables.';\n",
              "        element.innerHTML = '';\n",
              "        dataTable['output_type'] = 'display_data';\n",
              "        await google.colab.output.renderOutput(dataTable, element);\n",
              "        const docLink = document.createElement('div');\n",
              "        docLink.innerHTML = docLinkHtml;\n",
              "        element.appendChild(docLink);\n",
              "      }\n",
              "    </script>\n",
              "  </div>\n",
              "\n",
              "\n",
              "<div id=\"df-b92cbc77-36ac-4ea3-bff7-b35bf7563704\">\n",
              "  <button class=\"colab-df-quickchart\" onclick=\"quickchart('df-b92cbc77-36ac-4ea3-bff7-b35bf7563704')\"\n",
              "            title=\"Suggest charts\"\n",
              "            style=\"display:none;\">\n",
              "\n",
              "<svg xmlns=\"http://www.w3.org/2000/svg\" height=\"24px\"viewBox=\"0 0 24 24\"\n",
              "     width=\"24px\">\n",
              "    <g>\n",
              "        <path d=\"M19 3H5c-1.1 0-2 .9-2 2v14c0 1.1.9 2 2 2h14c1.1 0 2-.9 2-2V5c0-1.1-.9-2-2-2zM9 17H7v-7h2v7zm4 0h-2V7h2v10zm4 0h-2v-4h2v4z\"/>\n",
              "    </g>\n",
              "</svg>\n",
              "  </button>\n",
              "\n",
              "<style>\n",
              "  .colab-df-quickchart {\n",
              "      --bg-color: #E8F0FE;\n",
              "      --fill-color: #1967D2;\n",
              "      --hover-bg-color: #E2EBFA;\n",
              "      --hover-fill-color: #174EA6;\n",
              "      --disabled-fill-color: #AAA;\n",
              "      --disabled-bg-color: #DDD;\n",
              "  }\n",
              "\n",
              "  [theme=dark] .colab-df-quickchart {\n",
              "      --bg-color: #3B4455;\n",
              "      --fill-color: #D2E3FC;\n",
              "      --hover-bg-color: #434B5C;\n",
              "      --hover-fill-color: #FFFFFF;\n",
              "      --disabled-bg-color: #3B4455;\n",
              "      --disabled-fill-color: #666;\n",
              "  }\n",
              "\n",
              "  .colab-df-quickchart {\n",
              "    background-color: var(--bg-color);\n",
              "    border: none;\n",
              "    border-radius: 50%;\n",
              "    cursor: pointer;\n",
              "    display: none;\n",
              "    fill: var(--fill-color);\n",
              "    height: 32px;\n",
              "    padding: 0;\n",
              "    width: 32px;\n",
              "  }\n",
              "\n",
              "  .colab-df-quickchart:hover {\n",
              "    background-color: var(--hover-bg-color);\n",
              "    box-shadow: 0 1px 2px rgba(60, 64, 67, 0.3), 0 1px 3px 1px rgba(60, 64, 67, 0.15);\n",
              "    fill: var(--button-hover-fill-color);\n",
              "  }\n",
              "\n",
              "  .colab-df-quickchart-complete:disabled,\n",
              "  .colab-df-quickchart-complete:disabled:hover {\n",
              "    background-color: var(--disabled-bg-color);\n",
              "    fill: var(--disabled-fill-color);\n",
              "    box-shadow: none;\n",
              "  }\n",
              "\n",
              "  .colab-df-spinner {\n",
              "    border: 2px solid var(--fill-color);\n",
              "    border-color: transparent;\n",
              "    border-bottom-color: var(--fill-color);\n",
              "    animation:\n",
              "      spin 1s steps(1) infinite;\n",
              "  }\n",
              "\n",
              "  @keyframes spin {\n",
              "    0% {\n",
              "      border-color: transparent;\n",
              "      border-bottom-color: var(--fill-color);\n",
              "      border-left-color: var(--fill-color);\n",
              "    }\n",
              "    20% {\n",
              "      border-color: transparent;\n",
              "      border-left-color: var(--fill-color);\n",
              "      border-top-color: var(--fill-color);\n",
              "    }\n",
              "    30% {\n",
              "      border-color: transparent;\n",
              "      border-left-color: var(--fill-color);\n",
              "      border-top-color: var(--fill-color);\n",
              "      border-right-color: var(--fill-color);\n",
              "    }\n",
              "    40% {\n",
              "      border-color: transparent;\n",
              "      border-right-color: var(--fill-color);\n",
              "      border-top-color: var(--fill-color);\n",
              "    }\n",
              "    60% {\n",
              "      border-color: transparent;\n",
              "      border-right-color: var(--fill-color);\n",
              "    }\n",
              "    80% {\n",
              "      border-color: transparent;\n",
              "      border-right-color: var(--fill-color);\n",
              "      border-bottom-color: var(--fill-color);\n",
              "    }\n",
              "    90% {\n",
              "      border-color: transparent;\n",
              "      border-bottom-color: var(--fill-color);\n",
              "    }\n",
              "  }\n",
              "</style>\n",
              "\n",
              "  <script>\n",
              "    async function quickchart(key) {\n",
              "      const quickchartButtonEl =\n",
              "        document.querySelector('#' + key + ' button');\n",
              "      quickchartButtonEl.disabled = true;  // To prevent multiple clicks.\n",
              "      quickchartButtonEl.classList.add('colab-df-spinner');\n",
              "      try {\n",
              "        const charts = await google.colab.kernel.invokeFunction(\n",
              "            'suggestCharts', [key], {});\n",
              "      } catch (error) {\n",
              "        console.error('Error during call to suggestCharts:', error);\n",
              "      }\n",
              "      quickchartButtonEl.classList.remove('colab-df-spinner');\n",
              "      quickchartButtonEl.classList.add('colab-df-quickchart-complete');\n",
              "    }\n",
              "    (() => {\n",
              "      let quickchartButtonEl =\n",
              "        document.querySelector('#df-b92cbc77-36ac-4ea3-bff7-b35bf7563704 button');\n",
              "      quickchartButtonEl.style.display =\n",
              "        google.colab.kernel.accessAllowed ? 'block' : 'none';\n",
              "    })();\n",
              "  </script>\n",
              "</div>\n",
              "    </div>\n",
              "  </div>\n"
            ],
            "application/vnd.google.colaboratory.intrinsic+json": {
              "type": "dataframe",
              "variable_name": "df"
            }
          },
          "metadata": {},
          "execution_count": 3
        }
      ]
    },
    {
      "cell_type": "code",
      "source": [
        "conduct_check = True #けん玉をしている状態を確認して良いかの判定を行う変数（ResetFlagが検出されるとTrueになる）\n",
        "velocity_check = False #球のベクトルが一定値以上になった後にマイナスで下に落ちているかの判定を行う変数\n",
        "position_check = False #球が剣よりも高い場所にあるのかの判定を行う変数\n",
        "conduct_count = 0 #けん玉を行った回数をカウントする変数\n",
        "\n",
        "for index, row in df.iterrows(): #1行目から順番に内容を取得している処理\n",
        "  if conduct_check:\n",
        "    if (not velocity_check) and (row['ball.Velocity.y'] >= 2):  #ベクトルが一定値である２より大きくなった場合、けん玉を行っているかの判定を開始\n",
        "      velocity_check = True\n",
        "    elif velocity_check and row['ball.Velocity.y'] <= 0:  #ベクトルがマイナスになった場合、玉が上がった後に落ちていると判定\n",
        "      position_check = True\n",
        "      velocity_check = False\n",
        "    elif position_check:\n",
        "      if row['ball.Position.y'] >= row['sword.Position.y']: #玉が剣よりも高い位置にある場合、けん玉を行っていると判定\n",
        "        position_check = False\n",
        "        conduct_check = False\n",
        "        conduct_count += 1\n",
        "  else:\n",
        "    if row[\"ResetFlag\"] == 1:\n",
        "      conduct_check = True\n",
        "print(conduct_count)"
      ],
      "metadata": {
        "id": "SQKla7N9wBey",
        "colab": {
          "base_uri": "https://localhost:8080/"
        },
        "outputId": "6e6d6fc9-bc59-4b30-ecd6-44530d13a587"
      },
      "execution_count": 17,
      "outputs": [
        {
          "output_type": "stream",
          "name": "stdout",
          "text": [
            "905\n"
          ]
        }
      ]
    },
    {
      "cell_type": "code",
      "source": [
        "# 1から空に変わった回数をカウントする変数\n",
        "to_empty_count = 0\n",
        "# 空から1に変わった回数をカウントする変数\n",
        "from_empty_count = 0\n",
        "\n",
        "# 前の行のResetFlagの値を保存する変数\n",
        "previous_value = None\n",
        "\n",
        "# DataFrameをイテレーションして変化を検出\n",
        "for index, row in df.iterrows():\n",
        "    current_value = row['ResetFlag']\n",
        "    if previous_value == 1 and pd.isnull(current_value):\n",
        "        to_empty_count += 1\n",
        "    elif pd.isnull(previous_value) and current_value == 1:\n",
        "        from_empty_count += 1\n",
        "    previous_value = current_value\n",
        "\n",
        "print(\"1から空に変わった回数:\", to_empty_count)\n",
        "print(\"空から1に変わった回数:\", from_empty_count)"
      ],
      "metadata": {
        "colab": {
          "base_uri": "https://localhost:8080/"
        },
        "id": "-EppPBlODzGB",
        "outputId": "f2a86432-7ac4-40a3-859a-532b9311b93d"
      },
      "execution_count": 18,
      "outputs": [
        {
          "output_type": "stream",
          "name": "stdout",
          "text": [
            "1から空に変わった回数: 1196\n",
            "空から1に変わった回数: 1196\n"
          ]
        }
      ]
    },
    {
      "cell_type": "code",
      "source": [
        "df2 = pd.read_excel(\"/content/no2_cutting.xlsx\")"
      ],
      "metadata": {
        "id": "qGCFc5taEgwL"
      },
      "execution_count": 20,
      "outputs": []
    },
    {
      "cell_type": "code",
      "source": [
        "conduct_check = True #けん玉をしている状態を確認して良いかの判定を行う変数（ResetFlagが検出されるとTrueになる）\n",
        "velocity_check = False #球のベクトルが一定値以上になった後にマイナスで下に落ちているかの判定を行う変数\n",
        "position_check = False #球が剣よりも高い場所にあるのかの判定を行う変数\n",
        "conduct_count = 0 #けん玉を行った回数をカウントする変数\n",
        "\n",
        "for index, row in df2.iterrows(): #1行目から順番に内容を取得している処理\n",
        "  if conduct_check:\n",
        "    if (not velocity_check) and (row['ball.Velocity.y'] >= 2):  #ベクトルが一定値である２より大きくなった場合、けん玉を行っているかの判定を開始\n",
        "      velocity_check = True\n",
        "    elif velocity_check and row['ball.Velocity.y'] <= 0:  #ベクトルがマイナスになった場合、玉が上がった後に落ちていると判定\n",
        "      position_check = True\n",
        "      velocity_check = False\n",
        "    elif position_check:\n",
        "      if row['ball.Position.y'] >= row['sword.Position.y']: #玉が剣よりも高い位置にある場合、けん玉を行っていると判定\n",
        "        position_check = False\n",
        "        conduct_check = False\n",
        "        conduct_count += 1\n",
        "  else:\n",
        "    if row[\"ResetFlag\"] == 1: #リセットされた場合、\n",
        "      conduct_check = True\n",
        "print(conduct_count)"
      ],
      "metadata": {
        "colab": {
          "base_uri": "https://localhost:8080/"
        },
        "id": "wElhoMDvGdQ6",
        "outputId": "26597720-7a60-4e94-d6e2-21d896e7a18c"
      },
      "execution_count": 21,
      "outputs": [
        {
          "output_type": "stream",
          "name": "stdout",
          "text": [
            "503\n"
          ]
        }
      ]
    },
    {
      "cell_type": "code",
      "source": [
        "# 1から空に変わった回数をカウントする変数\n",
        "to_empty_count = 0\n",
        "# 空から1に変わった回数をカウントする変数\n",
        "from_empty_count = 0\n",
        "\n",
        "# 前の行のResetFlagの値を保存する変数\n",
        "previous_value = None\n",
        "\n",
        "# DataFrameをイテレーションして変化を検出\n",
        "for index, row in df2.iterrows():\n",
        "    current_value = row['ResetFlag']\n",
        "    if previous_value == 1 and pd.isnull(current_value):\n",
        "        to_empty_count += 1\n",
        "    elif pd.isnull(previous_value) and current_value == 1:\n",
        "        from_empty_count += 1\n",
        "    previous_value = current_value\n",
        "\n",
        "print(\"1から空に変わった回数:\", to_empty_count)\n",
        "print(\"空から1に変わった回数:\", from_empty_count)"
      ],
      "metadata": {
        "colab": {
          "base_uri": "https://localhost:8080/"
        },
        "id": "dbEfYPkbGgYq",
        "outputId": "43388c90-cccd-4f28-86dd-fdb1e9cb0c9f"
      },
      "execution_count": 22,
      "outputs": [
        {
          "output_type": "stream",
          "name": "stdout",
          "text": [
            "1から空に変わった回数: 636\n",
            "空から1に変わった回数: 636\n"
          ]
        }
      ]
    },
    {
      "cell_type": "code",
      "source": [],
      "metadata": {
        "id": "7UbbIiRFGhA5"
      },
      "execution_count": null,
      "outputs": []
    },
    {
      "cell_type": "code",
      "source": [
        "# DataFrameの作成\n",
        "missing_values = df['ResetFlag'].isna()\n"
      ],
      "metadata": {
        "id": "L4k6TThoiMYJ"
      },
      "execution_count": null,
      "outputs": []
    },
    {
      "cell_type": "code",
      "source": [
        "count = 0\n",
        "check = False\n",
        "for index, row in df.iterrows(): #1行目から順番に内容を取得している処理\n",
        "    # \"ball.Velocity.z\"の値が1以上になった後にマイナスの値になったかどうかを確認\n",
        "    if check and abs(row['sword.Position.y']-row['ball.Position.y']) <= 0.01:\n",
        "      if row['ball.Position.z'] > row['sword.Position.z']:\n",
        "          count += 1\n",
        "          check = False\n",
        "    # \"ball.Velocity.z\"の値が1以上になったかどうかを確認\n",
        "    if row['sword.Position.y']-row['ball.Position.y'] >= 0.5:\n",
        "        check = True\n",
        "print(count)"
      ],
      "metadata": {
        "colab": {
          "base_uri": "https://localhost:8080/"
        },
        "id": "Lc4wSvMmuxwU",
        "outputId": "f273f3ef-b4af-4b91-909c-b650c4dcd9df"
      },
      "execution_count": null,
      "outputs": [
        {
          "output_type": "stream",
          "name": "stdout",
          "text": [
            "756\n"
          ]
        }
      ]
    },
    {
      "cell_type": "code",
      "source": [
        "#剣と球の差が0.５以上かつベクトルが0.0…が10回続いたらカウント許可状態\n",
        "#xとzにおいて剣と球で差がなくyの値が一定の距離差であれば成功でカウント\n",
        "#そうじゃない場合は\n",
        "count = 0\n",
        "check = False\n",
        "for index, row in df.iterrows():\n",
        "    # \"ball.Velocity.z\"の値が1以上になった後にマイナスの値になったかどうかを確認\n",
        "    if check and abs(row['sword.Position.y']-row['ball.Position.y']) <= 0.005:\n",
        "      if row['ball.Position.z'] > row['sword.Position.z']:\n",
        "          count += 1\n",
        "          check = False\n",
        "    # \"ball.Velocity.z\"の値が1以上になったかどうかを確認\n",
        "    if row['sword.Position.y']-row['ball.Position.y'] >= 0.5:\n",
        "        check = \"zero\"\n",
        "print(count)"
      ],
      "metadata": {
        "colab": {
          "base_uri": "https://localhost:8080/"
        },
        "id": "CSo9L-fpEPFU",
        "outputId": "4085c0b0-dc69-4b1d-a5cb-c14334b380c4"
      },
      "execution_count": null,
      "outputs": [
        {
          "output_type": "stream",
          "name": "stdout",
          "text": [
            "380\n"
          ]
        }
      ]
    },
    {
      "cell_type": "code",
      "source": [
        "count = 0\n",
        "check = True\n",
        "for index, row in df.iterrows():\n",
        "    # \"ball.Velocity.z\"の値が1以上になった後にマイナスの値になったかどうかを確認\n",
        "    if check and row['ball.Position.z'] > row['sword.Position.z']:\n",
        "          count += 1\n",
        "          check = False\n",
        "    # \"ball.Velocity.z\"の値が1以上になったかどうかを確認\n",
        "    if row['ball.Position.z'] < row['sword.Position.z']:\n",
        "        check = True\n",
        "print(count)"
      ],
      "metadata": {
        "colab": {
          "base_uri": "https://localhost:8080/"
        },
        "id": "STdea1qC1Knk",
        "outputId": "a6c300fb-4a32-453f-87f8-746511edf3ce"
      },
      "execution_count": null,
      "outputs": [
        {
          "output_type": "stream",
          "name": "stdout",
          "text": [
            "2930\n"
          ]
        }
      ]
    },
    {
      "cell_type": "code",
      "source": [
        "# 初期化\n",
        "count_negative_after_positive = 0\n",
        "positive_velocity = False\n",
        "\n",
        "# 行ごとに処理\n",
        "for index, row in df.iterrows():\n",
        "    # \"ball.Velocity.z\"の値が1以上になった後にマイナスの値になったかどうかを確認\n",
        "    if positive_velocity and row['ball.Velocity.y'] < -1:\n",
        "      if row['ball.Position.z'] > row['sword.Position.z']:\n",
        "          count_negative_after_positive += 1\n",
        "          positive_velocity = False\n",
        "    # \"ball.Velocity.z\"の値が1以上になったかどうかを確認\n",
        "    if row['ball.Velocity.y'] >= 1:\n",
        "        positive_velocity = True\n",
        "\n",
        "print(\"1以上になった後にマイナスの値になった回数:\", count_negative_after_positive)\n"
      ],
      "metadata": {
        "colab": {
          "base_uri": "https://localhost:8080/"
        },
        "id": "1X9bsKN12SqW",
        "outputId": "09d00bf6-f7d5-4365-e2da-e03df101d70b"
      },
      "execution_count": null,
      "outputs": [
        {
          "output_type": "stream",
          "name": "stdout",
          "text": [
            "1以上になった後にマイナスの値になった回数: 1058\n"
          ]
        }
      ]
    }
  ]
}